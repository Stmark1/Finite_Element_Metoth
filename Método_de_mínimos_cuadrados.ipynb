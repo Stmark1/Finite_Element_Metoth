{
  "nbformat": 4,
  "nbformat_minor": 0,
  "metadata": {
    "colab": {
      "name": "Método de mínimos cuadrados",
      "provenance": [],
      "authorship_tag": "ABX9TyOtXPQXUb9RxaR2FmRvQq2G",
      "include_colab_link": true
    },
    "kernelspec": {
      "name": "python3",
      "display_name": "Python 3"
    },
    "language_info": {
      "name": "python"
    }
  },
  "cells": [
    {
      "cell_type": "markdown",
      "metadata": {
        "id": "view-in-github",
        "colab_type": "text"
      },
      "source": [
        "<a href=\"https://colab.research.google.com/github/Stmark1/Finite_Element_Metoth/blob/main/M%C3%A9todo_de_m%C3%ADnimos_cuadrados.ipynb\" target=\"_parent\"><img src=\"https://colab.research.google.com/assets/colab-badge.svg\" alt=\"Open In Colab\"/></a>"
      ]
    },
    {
      "cell_type": "markdown",
      "metadata": {
        "id": "9J1SnXICuwt_"
      },
      "source": [
        "# Metodo de minimos cuadrados\n",
        "Este programa resuelve problemas de estructuras.\n",
        "\n",
        "Se pueden usar para resolver n numeros de elementos en la estructura."
      ]
    },
    {
      "cell_type": "markdown",
      "metadata": {
        "id": "XH69Iu5IvIlg"
      },
      "source": [
        "## Problema de ejemplo a resolver\n",
        "Determine los desplazamientos y fuerzas que actuan en cada eslabón de la estructura mostrada en la figura. El área de sección transversal de los elementos 1 y 2 es $40 cm^2$, para los elementos 3 y 4 es $30 cm^2$, y para el elemento 5 es $20 cm^2$. Los primeros 4 elementos están fabricados con un material con $E = 200 GPa$ y el ultimo elemento con un material de $E=70GPa$. Cada nodo tiene 2 grados de libertar y la carga P es de $150kN$."
      ]
    },
    {
      "cell_type": "markdown",
      "metadata": {
        "id": "Fy5uWghgxcIS"
      },
      "source": [
        "|Nodo|X(m)|Y(m)|             |N° Elemento|Nodos|\n",
        "|----|----|----|-------------|-----------|-----|\n",
        "| 1  | 0  | 0  |             | 1         | 1-2 |\n",
        "| 1  | 1.5| 3.5|             | 2         | 2-4 |\n",
        "| 3  | 0  | 5  |             | 3         | 1-3 |\n",
        "| 4  | 5  | 5  |             | 4         | 3-4 |\n",
        "|    |    |    |             | 5         | 2-3 |\n",
        "\n"
      ]
    },
    {
      "cell_type": "markdown",
      "metadata": {
        "id": "GPO9ysl2E0xP"
      },
      "source": [
        "Tenemos 2 grados de libertad por cada nodo."
      ]
    },
    {
      "cell_type": "code",
      "metadata": {
        "id": "ChkOoOaSzlUo"
      },
      "source": [
        "# Codigo para general la imagen del armazón\n"
      ],
      "execution_count": null,
      "outputs": []
    },
    {
      "cell_type": "markdown",
      "metadata": {
        "id": "GXPNP8XnzuyP"
      },
      "source": [
        "##Importamos las librerias que vamos a utilizar\n",
        "**Numpy** para trabajar con matrices.\n",
        "\n",
        "**Reduce** una función que aplica otra hasta quedar con un elemento."
      ]
    },
    {
      "cell_type": "code",
      "metadata": {
        "id": "UGrUBh-SDU4o"
      },
      "source": [
        "import numpy as np\n",
        "from functools import reduce"
      ],
      "execution_count": null,
      "outputs": []
    },
    {
      "cell_type": "markdown",
      "metadata": {
        "id": "KxC7a1_e0Irm"
      },
      "source": [
        "## Creamos la clase Elemento\n",
        "Dentro de esta clase utilizamos el constructor $\\_\\_init\\_\\_$ para que almacene los valores que ocupamos para realizar cada operación.\n",
        "\n",
        "Luego definimos los metodos **mdr** y **grados_l** para obtener los componentes que ocuparemos despues.\n",
        "\n",
        "Datos ocupados:\n",
        "\n",
        "* **Modulo de young** \n",
        "* **Area**\n",
        "* **Cordenadas del punto inicial**\n",
        "* **Cordenadas del punto final**\n",
        "* **Nodo inicial**\n",
        "* **Nodo final**"
      ]
    },
    {
      "cell_type": "markdown",
      "metadata": {
        "id": "rxUOem0XAQvt"
      },
      "source": [
        "## Matriz de rigidez para cada elemento\n",
        "$$\\frac{EA}{L}\\begin{pmatrix}\n",
        "l^2_{s} & l_{s}m_{s} & -l^2_{s} & -l_{s}m_{s}\\\\\n",
        "l_{s}m_{s} & m^2_{s} & -l_{s}m_{s} & -m^2_{s}\\\\\n",
        "-l^2_{s} & -l_{s}m_{s} & l^2_{s} & l_{s}m_{s}\\\\\n",
        "-l_{s}m_{s} & -m^2_{s} & l_{s}m_{s} & m^2_{s}\\\\\n",
        "\\end{pmatrix}\\begin{pmatrix}\n",
        "u_{1}\\\\\n",
        "v_{1}\\\\\n",
        "u_{2}\\\\\n",
        "v_{2}\\\\\n",
        "\\end{pmatrix}=\\begin{pmatrix}\n",
        "F_{1x}\\\\\n",
        "F_{1y}\\\\\n",
        "F_{2x}\\\\\n",
        "F_{2y}\\\\\n",
        "\\end{pmatrix}$$"
      ]
    },
    {
      "cell_type": "code",
      "metadata": {
        "id": "1VOyczBWD8rI"
      },
      "source": [
        "class Elemento():\n",
        "  def __init__(self, cord1, cord2, e, a, inicio, final):\n",
        "\n",
        "    # Cordenadas de los nodos del elemento\n",
        "    self.cord1 = cord1\n",
        "    self.cord2 = cord2\n",
        "\n",
        "    #Propiedades del elemento\n",
        "    self.e = e\n",
        "    self.a = a\n",
        "\n",
        "    # Nodos en los extremos\n",
        "    self.inicio = inicio\n",
        "    self.final = final\n",
        "  \n",
        "  # Definimos la operación que devuelva la matriz de rigidez\n",
        "  def mdr(self):\n",
        "\n",
        "    # Longitud del elemento\n",
        "    longitud = ((self.cord2[0]-self.cord1[0])**2 + (self.cord2[1]-self.cord1[1])**2)**0.5\n",
        "    \n",
        "    ls = (self.cord2[0]-self.cord1[0]) / longitud\n",
        "    ms = (self.cord2[1]-self.cord1[1]) / longitud\n",
        "    \n",
        "    eal = (self.e*self.a) / longitud\n",
        "\n",
        "    matriz = np.array(\n",
        "        [\n",
        "            [ls**2, ls*ms, -(ls**2), -(ls*ms)],\n",
        "            [ls*ms, ms**2, -(ls*ms), -(ms**2)],\n",
        "            [-(ls**2), -(ls*ms), ls**2, ls*ms],\n",
        "            [-(ls*ms), -(ms**2), ls*ms, ms**2]\n",
        "        ]\n",
        "    )\n",
        "\n",
        "    matriz_rigidez = matriz * eal\n",
        "\n",
        "    return matriz_rigidez\n",
        "\n",
        "  # Definimos los grados de libertad que tiene el elemento\n",
        "  def grados_l(self):\n",
        "\n",
        "      ui = (self.inicio * 2) - 1\n",
        "      vi = self.inicio * 2\n",
        "      uf = (self.final * 2) - 1\n",
        "      vf = self.final * 2\n",
        "\n",
        "      grados = [ui, vi, uf, vf]\n",
        "\n",
        "      return grados"
      ],
      "execution_count": null,
      "outputs": []
    },
    {
      "cell_type": "markdown",
      "metadata": {
        "id": "eb2HayA28KOS"
      },
      "source": [
        "## Creamos la clase Elemento con Resultados\n",
        "Utilizamos la propiedad de herencia que existe dentro de python, de esta manera conseguimos no volver a escribir el codigo que utilizamos previamente.\n",
        "\n",
        "Para eso dentro del *def \\_\\_init\\_\\_* llamamos al constructor de la clase padre, en este caso a Elemento."
      ]
    },
    {
      "cell_type": "code",
      "metadata": {
        "id": "0aFmY-4O3spJ"
      },
      "source": [
        "class Elemento_R(Elemento):\n",
        "\n",
        "  def __init__(self, cord1, cord2, e, a, inicio, final, v_d):\n",
        "    # Lamamos al constructor de la clase padre\n",
        "    Elemento.__init__(self, cord1, cord2, e, a, inicio, final)\n",
        "    \n",
        "    self.vector_desplazamiento = v_d\n",
        "\n",
        "    # Calculamos la longitud\n",
        "    self.longitud = ((self.cord2[0] - self.cord1[0])**2 + (self.cord2[1] - self.cord1[1])**2)**0.5\n",
        "\n",
        "    # Calcular ls y ms\n",
        "    self.ls = (self.cord2[0] - self.cord1[0]) / self.longitud\n",
        "    self.ms = (self.cord2[1] - self.cord1[1]) / self.longitud\n",
        "\n",
        "    grados = self.grados_l()\n",
        "\n",
        "    # Transformando el los grados de libertad a indice empezando en 0\n",
        "    self.ui = grados[0] - 1\n",
        "    self.vi = grados[1] - 1\n",
        "    self.uf = grados[2] - 1\n",
        "    self.vf = grados[3] - 1\n",
        "\n",
        "    # Encontrando\n",
        "    self.d1 = (self.ls * self.vector_desplazamiento[self.ui]) + (self.ms * self.vector_desplazamiento[self.vi])\n",
        "    self.d2 = (self.ls * self.vector_desplazamiento[self.uf]) + (self.ms * self.vector_desplazamiento[self.vf])\n",
        "\n",
        "  # Calcular el desplazamiento en algun punto a lo largo del elemento\n",
        "  def des(self, s):\n",
        "    if s <= self.longitud and s >= self.longitud:\n",
        "      us = (((self.longitud + s) / s) * self.d1) + ((s / self.longitud) * self.d2)\n",
        "      return us\n",
        "\n",
        "    else:\n",
        "      return print(\"Numero fuera del tamaño del elemento\")\n",
        "\n",
        "  # Calcular la deformación unitaria, es adimencional\n",
        "  def def_unitaria(self):\n",
        "    epsilon = (1 / self.longitud) * (-self.d1 + self.d2)\n",
        "    return epsilon\n",
        "  \n",
        "  # Calculo del esfuerzo en el elemento\n",
        "  def esfuerzo(self):\n",
        "    sigma = self.e * self.def_unitaria()\n",
        "    return sigma\n",
        "  \n",
        "  # Obteniendo la fuerza que existe en el elemento\n",
        "  def fuerza(self):\n",
        "    f = self.esfuerzo() * self.a\n",
        "    return f\n",
        "  \n",
        "  # Función para inprimir en texto los valores importantes\n",
        "  def resultados(self):\n",
        "    epsilon = self.def_unitaria()\n",
        "    sigma = self.esfuerzo()\n",
        "    f = self.fuerza()\n",
        "    resultados = print(f\"El valor de la longitud es: {self.longitud:.4f} m\\nEl valor del esfuerzo Unitario es: {epsilon:.6f}\\nEl valor de la deformación unitaria es: {sigma:.4f} Pa\\nEl valor de la fuerza es: {f:.4f} N\")\n",
        "\n",
        "    return resultados"
      ],
      "execution_count": null,
      "outputs": []
    },
    {
      "cell_type": "markdown",
      "metadata": {
        "id": "3NPIk3mOFTsb"
      },
      "source": [
        "## Matriz de endamble\n",
        "En esta matriz es donde se van a ir colocando los valores de la matriz de rifides de manera que concuerden los numeros fila-columna con los valores de los grados de libertad, ya que tenemos una matriz cuadrada $u_{1}, v_{1}, u_{2}, v_{2}, ..., u_{n}, v_{n}$"
      ]
    },
    {
      "cell_type": "code",
      "metadata": {
        "id": "GRR4cmzLOYyQ"
      },
      "source": [
        "# Añadir los elementos usando los grados de libertad\n",
        "\n",
        "def matriz_ensamble(elemento, tamaño_matriz):\n",
        "\n",
        "  # Creamos la matriz donde agregar los datos de acuerdo a sus grados de libertad\n",
        "  matriz_base = np.zeros((tamaño_matriz, tamaño_matriz), dtype=float)\n",
        "\n",
        "  # Almacenamos los grados de libertad utilizando el metodo previamente definido en la clase\n",
        "  ui = elemento.grados_l()[0]\n",
        "  vi = elemento.grados_l()[1]\n",
        "  uf = elemento.grados_l()[2]\n",
        "  vf = elemento.grados_l()[3]\n",
        "\n",
        "  ui = ui - 1\n",
        "  vi = vi - 1\n",
        "  uf = uf - 1\n",
        "  vf = vf - 1\n",
        "\n",
        "  # Revisamos los 16 lugares de la matriz de rigides\n",
        "  for i in range(tamaño_matriz):\n",
        "\n",
        "    for j in range(tamaño_matriz):\n",
        "\n",
        "      if i == ui and j == ui:\n",
        "        matriz_base[i, j] = elemento.mdr()[0, 0]\n",
        "\n",
        "      elif i == ui and j == vi:\n",
        "        matriz_base[i, j] = elemento.mdr()[0, 1]\n",
        "\n",
        "      elif i == ui and j == uf:\n",
        "        matriz_base[i, j] = elemento.mdr()[0, 2]\n",
        "\n",
        "      elif i == ui and j == vf:\n",
        "        matriz_base[i, j] = elemento.mdr()[0, 3]\n",
        "\n",
        "      elif i == vi and j == ui:\n",
        "        matriz_base[i, j] = elemento.mdr()[1, 0]\n",
        "\n",
        "      elif i == vi and j == vi:\n",
        "        matriz_base[i, j] = elemento.mdr()[1, 1]\n",
        "\n",
        "      elif i == vi and j == uf:\n",
        "        matriz_base[i, j] = elemento.mdr()[1, 2]\n",
        "\n",
        "      elif i == vi and j == vf:\n",
        "        matriz_base[i, j] = elemento.mdr()[1, 3]\n",
        "\n",
        "      elif i == uf and j == ui:\n",
        "        matriz_base[i, j] = elemento.mdr()[2, 0]\n",
        "\n",
        "      elif i == uf and j == vi:\n",
        "        matriz_base[i, j] = elemento.mdr()[2, 1]\n",
        "\n",
        "      elif i == uf and j == uf:\n",
        "        matriz_base[i, j] = elemento.mdr()[2, 2]\n",
        "\n",
        "      elif i == uf and j == vf:\n",
        "        matriz_base[i, j] = elemento.mdr()[2, 3]\n",
        "\n",
        "      elif i == vf and j == ui:\n",
        "        matriz_base[i, j] = elemento.mdr()[3, 0]\n",
        "\n",
        "      elif i == vf and j == vi:\n",
        "        matriz_base[i, j] = elemento.mdr()[3, 1]\n",
        "\n",
        "      elif i == vf and j == uf:\n",
        "        matriz_base[i, j] = elemento.mdr()[3, 2]\n",
        "\n",
        "      elif i == vf and j == vf:\n",
        "        matriz_base[i, j] = elemento.mdr()[3, 3]\n",
        "\n",
        "  return matriz_base"
      ],
      "execution_count": null,
      "outputs": []
    },
    {
      "cell_type": "markdown",
      "metadata": {
        "id": "OPQyHsOVHHvD"
      },
      "source": [
        "## Generando los elementos\n",
        "Ahora creamos una función para generar elementos.\n",
        "\n",
        "Utilizamos compreensión de lista y de diccionarios.\n",
        "\n",
        "Seleccionamos que tipos de clase vamos a usar para generar la clase usando r=\"r\"\n",
        "\n",
        "Damos un valor nulo por default para r y v_d. Recordando que los valores default se añaden despues."
      ]
    },
    {
      "cell_type": "code",
      "metadata": {
        "id": "El6JnFL0xC2B"
      },
      "source": [
        "def generador_elementos(elementos, r=None, v_d=None):\n",
        "  \n",
        "  # Creando la lista de los nombres de los elementos\n",
        "  nombres = [\"elemento\" + str(i + 1) for i in range(len(elementos))]\n",
        "  \n",
        "  if r == None:\n",
        "    # Unir los valores y generar los elementos\n",
        "    dic_elementos = {nombre:Elemento(*valor) for (nombre, valor) in zip(nombres, elementos)}\n",
        "    return dic_elementos\n",
        "  \n",
        "  elif r == \"r\":\n",
        "    dic_elementos = {nombre:Elemento_R(*valor, v_d) for (nombre, valor) in zip(nombres, elementos)}\n",
        "    return dic_elementos"
      ],
      "execution_count": null,
      "outputs": []
    },
    {
      "cell_type": "markdown",
      "metadata": {
        "id": "CU_XC8_yIQJe"
      },
      "source": [
        "## Aqui vamos a agregar los valores de los elementos"
      ]
    },
    {
      "cell_type": "code",
      "metadata": {
        "id": "O77wGJyvJbS1"
      },
      "source": [
        "# Lista de elementos en el problema con sus propiedades\n",
        "# Es una lista de listas con:\n",
        "# (cordenada del nodo inicial), (cordenada del nodo final), modulo de young, área, nodo inicial, nodo final\n",
        "\n",
        "\"\"\"\n",
        "elementos = [\n",
        "             [(\"x1\", \"y1\"), (\"x2\", \"y2\"), \"e\", \"a\", \"inicio\", \"final\"],\n",
        "             [(\"x1\", \"y1\"), (\"x2\", \"y2\"), \"e\", \"a\", \"inicio\", \"final\"],\n",
        "             [(\"x1\", \"y1\"), (\"x2\", \"y2\"), \"e\", \"a\", \"inicio\", \"final\"]\n",
        "]\n",
        "\"\"\"\n",
        "numero_nodos = 4\n",
        "\n",
        "elementos = [\n",
        "             [(0, 0), (1.5, 3.5), 200000000000, 0.004, 1, 2],\n",
        "             [(1.5, 3.5), (5, 5), 200000000000, 0.004, 2, 4],\n",
        "             [(0, 0), (0, 5), 200000000000, 0.003, 1, 3],\n",
        "             [(0, 5), (5, 5), 200000000000, 0.003, 3, 4],\n",
        "             [(1.5, 3.5), (0, 5), 70000000000, 0.002, 2, 3]\n",
        "            ]\n",
        "\n",
        "# Vector carga, x1, y1, x2, y2, ... xn, yn *Por cada grada de libertad\n",
        "vector_carga = np.array([0, 0, 0, -150000, 0, 0, 0, 0])"
      ],
      "execution_count": null,
      "outputs": []
    },
    {
      "cell_type": "markdown",
      "metadata": {
        "id": "imimyp_VI_y4"
      },
      "source": [
        "## Creamos los elementos con la clase y la lista de datos de los elementos\n",
        "Asignamos el diccionario generado por nuestra función a dic_elementos\n",
        "\n",
        "Utilizamos el ciclo *for* para revisar que los datos sean coerentes"
      ]
    },
    {
      "cell_type": "code",
      "metadata": {
        "id": "6dMJPfc6PjP8",
        "colab": {
          "base_uri": "https://localhost:8080/"
        },
        "outputId": "a3234e0f-b679-4eea-b2cc-095e49e1ef5a"
      },
      "source": [
        "# Revisar los valores de la matriz de regides de cada elemento\n",
        "dic_elementos = generador_elementos(elementos)\n",
        "\n",
        "for i in dic_elementos.values():\n",
        "  print(i.mdr())\n",
        "  print(i.grados_l())"
      ],
      "execution_count": null,
      "outputs": [
        {
          "output_type": "stream",
          "name": "stdout",
          "text": [
            "[[ 3.26002178e+07  7.60671749e+07 -3.26002178e+07 -7.60671749e+07]\n",
            " [ 7.60671749e+07  1.77490075e+08 -7.60671749e+07 -1.77490075e+08]\n",
            " [-3.26002178e+07 -7.60671749e+07  3.26002178e+07  7.60671749e+07]\n",
            " [-7.60671749e+07 -1.77490075e+08  7.60671749e+07  1.77490075e+08]]\n",
            "[1, 2, 3, 4]\n",
            "[[ 1.77490075e+08  7.60671749e+07 -1.77490075e+08 -7.60671749e+07]\n",
            " [ 7.60671749e+07  3.26002178e+07 -7.60671749e+07 -3.26002178e+07]\n",
            " [-1.77490075e+08 -7.60671749e+07  1.77490075e+08  7.60671749e+07]\n",
            " [-7.60671749e+07 -3.26002178e+07  7.60671749e+07  3.26002178e+07]]\n",
            "[3, 4, 7, 8]\n",
            "[[ 0.0e+00  0.0e+00 -0.0e+00 -0.0e+00]\n",
            " [ 0.0e+00  1.2e+08 -0.0e+00 -1.2e+08]\n",
            " [-0.0e+00 -0.0e+00  0.0e+00  0.0e+00]\n",
            " [-0.0e+00 -1.2e+08  0.0e+00  1.2e+08]]\n",
            "[1, 2, 5, 6]\n",
            "[[ 1.2e+08  0.0e+00 -1.2e+08 -0.0e+00]\n",
            " [ 0.0e+00  0.0e+00 -0.0e+00 -0.0e+00]\n",
            " [-1.2e+08 -0.0e+00  1.2e+08  0.0e+00]\n",
            " [-0.0e+00 -0.0e+00  0.0e+00  0.0e+00]]\n",
            "[5, 6, 7, 8]\n",
            "[[ 32998316.45537223 -32998316.45537223 -32998316.45537223\n",
            "   32998316.45537223]\n",
            " [-32998316.45537223  32998316.45537223  32998316.45537223\n",
            "  -32998316.45537223]\n",
            " [-32998316.45537223  32998316.45537223  32998316.45537223\n",
            "  -32998316.45537223]\n",
            " [ 32998316.45537223 -32998316.45537223 -32998316.45537223\n",
            "   32998316.45537223]]\n",
            "[3, 4, 5, 6]\n"
          ]
        }
      ]
    },
    {
      "cell_type": "markdown",
      "metadata": {
        "id": "X26s1bh1I2YT"
      },
      "source": [
        "## Sumamos todas las matrices para crear la **matriz de rigidez global**"
      ]
    },
    {
      "cell_type": "code",
      "metadata": {
        "id": "e8mj_Yidnrm9",
        "colab": {
          "base_uri": "https://localhost:8080/"
        },
        "outputId": "a130875c-e56e-4579-fd0b-ceb7a4b4015f"
      },
      "source": [
        "# Aplicamos la operación matriz_ensamble() a las matrices de rigides y los almacenamos en una lista\n",
        "arreglos = [matriz_ensamble(matriz, numero_nodos * 2) for matriz in generador_elementos(elementos).values()]\n",
        "\n",
        "# Utilizando reduce() se suman las matrices\n",
        "matriz_final = reduce(lambda x, y: x+y, arreglos)\n",
        "\n",
        "print(matriz_final)"
      ],
      "execution_count": null,
      "outputs": [
        {
          "output_type": "stream",
          "name": "stdout",
          "text": [
            "[[ 3.26002178e+07  7.60671749e+07 -3.26002178e+07 -7.60671749e+07\n",
            "   0.00000000e+00  0.00000000e+00  0.00000000e+00  0.00000000e+00]\n",
            " [ 7.60671749e+07  2.97490075e+08 -7.60671749e+07 -1.77490075e+08\n",
            "   0.00000000e+00 -1.20000000e+08  0.00000000e+00  0.00000000e+00]\n",
            " [-3.26002178e+07 -7.60671749e+07  2.43088609e+08  1.19136033e+08\n",
            "  -3.29983165e+07  3.29983165e+07 -1.77490075e+08 -7.60671749e+07]\n",
            " [-7.60671749e+07 -1.77490075e+08  1.19136033e+08  2.43088609e+08\n",
            "   3.29983165e+07 -3.29983165e+07 -7.60671749e+07 -3.26002178e+07]\n",
            " [ 0.00000000e+00  0.00000000e+00 -3.29983165e+07  3.29983165e+07\n",
            "   1.52998316e+08 -3.29983165e+07 -1.20000000e+08  0.00000000e+00]\n",
            " [ 0.00000000e+00 -1.20000000e+08  3.29983165e+07 -3.29983165e+07\n",
            "  -3.29983165e+07  1.52998316e+08  0.00000000e+00  0.00000000e+00]\n",
            " [ 0.00000000e+00  0.00000000e+00 -1.77490075e+08 -7.60671749e+07\n",
            "  -1.20000000e+08  0.00000000e+00  2.97490075e+08  7.60671749e+07]\n",
            " [ 0.00000000e+00  0.00000000e+00 -7.60671749e+07 -3.26002178e+07\n",
            "   0.00000000e+00  0.00000000e+00  7.60671749e+07  3.26002178e+07]]\n"
          ]
        }
      ]
    },
    {
      "cell_type": "markdown",
      "metadata": {
        "id": "_6UpCXe9J1KT"
      },
      "source": [
        "## No olvidar colocar los vaolres frontera\n",
        "Los nodos que no se mueven"
      ]
    },
    {
      "cell_type": "code",
      "metadata": {
        "id": "bT1-sh4Yl5Kh",
        "colab": {
          "base_uri": "https://localhost:8080/"
        },
        "outputId": "1706476c-8dbe-4fb8-e1f3-3e5ca2f4aaab"
      },
      "source": [
        "# Agregar valores de frontera\n",
        "\n",
        "\"\"\"def frontera_valores(nodos_fijos)\n",
        "  nodos_fijos[]\"\"\"\n",
        "\n",
        "# Colocamos primero la fila en 0\n",
        "# Posteriormente colocamos el 1 en la diagonal\n",
        "\n",
        "# Primer nodo fijo\n",
        "matriz_final[0] = 0\n",
        "matriz_final[1] = 0\n",
        "\n",
        "matriz_final[0,0] = 1\n",
        "matriz_final[1,1] = 1\n",
        "\n",
        "#Segundo nodo fijo\n",
        "matriz_final[6] = 0\n",
        "matriz_final[7] = 0\n",
        "\n",
        "matriz_final[6,6] = 1\n",
        "matriz_final[7,7] = 1\n",
        "\n",
        "# Revisió de los valores \n",
        "for row in matriz_final:\n",
        "  print(row)"
      ],
      "execution_count": null,
      "outputs": [
        {
          "output_type": "stream",
          "name": "stdout",
          "text": [
            "[1. 0. 0. 0. 0. 0. 0. 0.]\n",
            "[0. 1. 0. 0. 0. 0. 0. 0.]\n",
            "[-3.26002178e+07 -7.60671749e+07  2.43088609e+08  1.19136033e+08\n",
            " -3.29983165e+07  3.29983165e+07 -1.77490075e+08 -7.60671749e+07]\n",
            "[-7.60671749e+07 -1.77490075e+08  1.19136033e+08  2.43088609e+08\n",
            "  3.29983165e+07 -3.29983165e+07 -7.60671749e+07 -3.26002178e+07]\n",
            "[ 0.00000000e+00  0.00000000e+00 -3.29983165e+07  3.29983165e+07\n",
            "  1.52998316e+08 -3.29983165e+07 -1.20000000e+08  0.00000000e+00]\n",
            "[ 0.00000000e+00 -1.20000000e+08  3.29983165e+07 -3.29983165e+07\n",
            " -3.29983165e+07  1.52998316e+08  0.00000000e+00  0.00000000e+00]\n",
            "[0. 0. 0. 0. 0. 0. 1. 0.]\n",
            "[0. 0. 0. 0. 0. 0. 0. 1.]\n"
          ]
        }
      ]
    },
    {
      "cell_type": "markdown",
      "metadata": {
        "id": "fT8DxePkKaTC"
      },
      "source": [
        "## Finalmente invertimos la matriz\n",
        "Usamos $np.linalg.inv()$\n",
        "\n",
        "Esta función invierta la matriz si es posible matematicamente."
      ]
    },
    {
      "cell_type": "code",
      "metadata": {
        "id": "pT47fzIZl3YI",
        "colab": {
          "base_uri": "https://localhost:8080/"
        },
        "outputId": "dcccd9da-60e9-4136-d02a-e60715bbde96"
      },
      "source": [
        "#invertimos la matriz\n",
        "matriz_final_inv = np.linalg.inv(matriz_final)\n",
        "\n",
        "for row in matriz_final_inv:\n",
        "  print(row)"
      ],
      "execution_count": null,
      "outputs": [
        {
          "output_type": "stream",
          "name": "stdout",
          "text": [
            "[ 1.00000000e+00  5.18104078e-16  1.33095046e-24  3.11611780e-24\n",
            "  2.67501718e-24 -3.52361629e-24 -6.23276243e-15 -8.00324366e-17]\n",
            "[-2.87570530e-18  1.00000000e+00 -4.20459463e-25 -1.06295392e-25\n",
            " -1.54240313e-24 -5.45015142e-25  2.61519335e-16  8.29555756e-18]\n",
            "[-6.61778310e-02 -3.66177831e-01  6.35374200e-09 -3.59302425e-09\n",
            "  1.76469077e-09 -1.76469077e-09  1.06617783e+00  3.66177831e-01]\n",
            "[ 3.66177831e-01  1.06617783e+00 -3.59302425e-09  6.35374200e-09\n",
            " -1.76469077e-09  1.76469077e-09 -3.66177831e-01 -6.61778310e-02]\n",
            "[-7.67057378e-02 -7.67057378e-02  1.76469077e-09 -1.76469077e-09\n",
            "  7.48104736e-09  8.52285976e-10  1.07670574e+00  7.67057378e-02]\n",
            "[ 7.67057378e-02  1.07670574e+00 -1.76469077e-09  1.76469077e-09\n",
            "  8.52285976e-10  7.48104736e-09 -7.67057378e-02 -7.67057378e-02]\n",
            "[0. 0. 0. 0. 0. 0. 1. 0.]\n",
            "[0. 0. 0. 0. 0. 0. 0. 1.]\n"
          ]
        }
      ]
    },
    {
      "cell_type": "markdown",
      "metadata": {
        "id": "Qam7oU6bOkSk"
      },
      "source": [
        "## Para resolver nada mas multiplicamos la inversa por el vector carga\n",
        "$$\\frac{EA}{L}\\begin{pmatrix}\n",
        "l^2_{s} & l_{s}m_{s} & -l^2_{s} & -l_{s}m_{s}\\\\\n",
        "l_{s}m_{s} & m^2_{s} & -l_{s}m_{s} & -m^2_{s}\\\\\n",
        "-l^2_{s} & -l_{s}m_{s} & l^2_{s} & l_{s}m_{s}\\\\\n",
        "-l_{s}m_{s} & -m^2_{s} & l_{s}m_{s} & m^2_{s}\\\\\n",
        "\\end{pmatrix}^{-1}\\begin{pmatrix}\n",
        "F_{1x}\\\\\n",
        "F_{1y}\\\\\n",
        "F_{2x}\\\\\n",
        "F_{2y}\\\\\n",
        "\\end{pmatrix}=\\begin{pmatrix}\n",
        "u_{1}\\\\\n",
        "v_{1}\\\\\n",
        "u_{2}\\\\\n",
        "v_{2}\\\\\n",
        "\\end{pmatrix}$$"
      ]
    },
    {
      "cell_type": "code",
      "metadata": {
        "colab": {
          "base_uri": "https://localhost:8080/"
        },
        "id": "5atSNrZIWQu5",
        "outputId": "1ae74823-3747-450a-feb6-b62f9b95fe2b"
      },
      "source": [
        "# Multiplicación de la matriz inversa por el vector carga nos da el resultado del vector desplazamiento\n",
        "\n",
        "vector_desplazamiento = np.dot(matriz_final_inv, vector_carga)\n",
        "\n",
        "print(vector_desplazamiento)"
      ],
      "execution_count": null,
      "outputs": [
        {
          "output_type": "stream",
          "name": "stdout",
          "text": [
            "[-4.67417669e-19  1.59443088e-20  5.38953638e-04 -9.53061301e-04\n",
            "  2.64703615e-04 -2.64703615e-04  0.00000000e+00  0.00000000e+00]\n"
          ]
        }
      ]
    },
    {
      "cell_type": "markdown",
      "metadata": {
        "id": "aB_yStMLL9SU"
      },
      "source": [
        "## Generamos los resultados\n",
        "Ya que tenemos el vector de desplazamiento podemos calcular los valores dependientes de ella.\n",
        "* Deformación unitaria\n",
        "* Esfuerzo\n",
        "* Fuerza\n",
        "* Desplazamiento en x distancia"
      ]
    },
    {
      "cell_type": "code",
      "metadata": {
        "id": "XeFE0iE-Tl1U"
      },
      "source": [
        "# Utilizamos la misma función, pero con los valores opcionales llenos\n",
        "dic_elementos_r = generador_elementos(elementos, r=\"r\", v_d=vector_desplazamiento)"
      ],
      "execution_count": null,
      "outputs": []
    },
    {
      "cell_type": "markdown",
      "metadata": {
        "id": "EVg5z7PDLKvH"
      },
      "source": [
        "## Mostramos los resultados\n",
        "Utilizamos el metodo **Elemento_R.resultados()**\n",
        "\n",
        "Utilizando el ciclo *for* para imprimir los resultados por elemento."
      ]
    },
    {
      "cell_type": "code",
      "metadata": {
        "colab": {
          "base_uri": "https://localhost:8080/"
        },
        "id": "SZyvsDftfMiO",
        "outputId": "91c428f1-c1bf-4962-e1ef-22024272ff44"
      },
      "source": [
        "# Ciclo para imprimir todos los resultados\n",
        "\n",
        "for key in dic_elementos_r.keys():\n",
        "  print(key)\n",
        "  dic_elementos_r[key].resultados()"
      ],
      "execution_count": null,
      "outputs": [
        {
          "output_type": "stream",
          "name": "stdout",
          "text": [
            "elemento1\n",
            "El valor de la longitud es: 3.8079 m\n",
            "El valor del esfuerzo Unitario es: -0.000174\n",
            "El valor de la deformación unitaria es: -34859090.9686 Pa\n",
            "El valor de la fuerza es: -139436.3639 N\n",
            "elemento2\n",
            "El valor de la longitud es: 3.8079 m\n",
            "El valor del esfuerzo Unitario es: -0.000031\n",
            "El valor de la deformación unitaria es: -6299941.8216 Pa\n",
            "El valor de la fuerza es: -25199.7673 N\n",
            "elemento3\n",
            "El valor de la longitud es: 5.0000 m\n",
            "El valor del esfuerzo Unitario es: -0.000053\n",
            "El valor de la deformación unitaria es: -10588144.5983 Pa\n",
            "El valor de la fuerza es: -31764.4338 N\n",
            "elemento4\n",
            "El valor de la longitud es: 5.0000 m\n",
            "El valor del esfuerzo Unitario es: -0.000053\n",
            "El valor de la deformación unitaria es: -10588144.5983 Pa\n",
            "El valor de la fuerza es: -31764.4338 N\n",
            "elemento5\n",
            "El valor de la longitud es: 2.1213 m\n",
            "El valor del esfuerzo Unitario es: 0.000321\n",
            "El valor de la deformación unitaria es: 22460846.5370 Pa\n",
            "El valor de la fuerza es: 44921.6931 N\n"
          ]
        }
      ]
    }
  ]
}